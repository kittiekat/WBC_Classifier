{
 "cells": [
  {
   "cell_type": "markdown",
   "metadata": {
    "collapsed": true,
    "pycharm": {
     "name": "#%% md\n"
    }
   },
   "source": [
    "# MobileNet - Rabin Augmented Data v2\n",
    "# Conclusion: 99.35% but some instabiliy"
   ]
  },
  {
   "cell_type": "code",
   "execution_count": 1,
   "metadata": {
    "pycharm": {
     "name": "#%%\n"
    }
   },
   "outputs": [],
   "source": [
    "import os\n",
    "\n",
    "test_dir =\"Rabin Data/Test - Augmented/\"\n",
    "train_dir = \"Rabin Data/Train - Augmented/\"\n",
    "\n",
    "# Count total images in training set\n",
    "count_train = sum([len(files) for r, d, files in os.walk(train_dir)])\n",
    "count_test = sum([len(files) for r, d, files in os.walk(test_dir)])\n"
   ]
  },
  {
   "cell_type": "code",
   "execution_count": 2,
   "metadata": {
    "pycharm": {
     "name": "#%%\n"
    }
   },
   "outputs": [
    {
     "name": "stdout",
     "output_type": "stream",
     "text": [
      "Found 31155 images belonging to 5 classes.\n",
      "Found 13300 images belonging to 5 classes.\n"
     ]
    }
   ],
   "source": [
    "from keras.preprocessing.image import ImageDataGenerator\n",
    "\n",
    "train = ImageDataGenerator()\n",
    "traindata = train.flow_from_directory(directory=train_dir,target_size=(224,224))\n",
    "test = ImageDataGenerator()\n",
    "testdata = test.flow_from_directory(directory=test_dir, target_size=(224,224), shuffle = False)"
   ]
  },
  {
   "cell_type": "code",
   "execution_count": 3,
   "metadata": {
    "pycharm": {
     "name": "#%%\n"
    }
   },
   "outputs": [
    {
     "name": "stdout",
     "output_type": "stream",
     "text": [
      "Model: \"mobilenet_1.00_224\"\n",
      "_________________________________________________________________\n",
      "Layer (type)                 Output Shape              Param #   \n",
      "=================================================================\n",
      "input_1 (InputLayer)         [(None, 224, 224, 3)]     0         \n",
      "_________________________________________________________________\n",
      "conv1 (Conv2D)               (None, 112, 112, 32)      864       \n",
      "_________________________________________________________________\n",
      "conv1_bn (BatchNormalization (None, 112, 112, 32)      128       \n",
      "_________________________________________________________________\n",
      "conv1_relu (ReLU)            (None, 112, 112, 32)      0         \n",
      "_________________________________________________________________\n",
      "conv_dw_1 (DepthwiseConv2D)  (None, 112, 112, 64)      576       \n",
      "_________________________________________________________________\n",
      "conv_dw_1_bn (BatchNormaliza (None, 112, 112, 64)      256       \n",
      "_________________________________________________________________\n",
      "conv_dw_1_relu (ReLU)        (None, 112, 112, 64)      0         \n",
      "_________________________________________________________________\n",
      "conv_pw_1 (Conv2D)           (None, 112, 112, 64)      4096      \n",
      "_________________________________________________________________\n",
      "conv_pw_1_bn (BatchNormaliza (None, 112, 112, 64)      256       \n",
      "_________________________________________________________________\n",
      "conv_pw_1_relu (ReLU)        (None, 112, 112, 64)      0         \n",
      "_________________________________________________________________\n",
      "conv_pad_2 (ZeroPadding2D)   (None, 113, 113, 64)      0         \n",
      "_________________________________________________________________\n",
      "conv_dw_2 (DepthwiseConv2D)  (None, 56, 56, 128)       1152      \n",
      "_________________________________________________________________\n",
      "conv_dw_2_bn (BatchNormaliza (None, 56, 56, 128)       512       \n",
      "_________________________________________________________________\n",
      "conv_dw_2_relu (ReLU)        (None, 56, 56, 128)       0         \n",
      "_________________________________________________________________\n",
      "conv_pw_2 (Conv2D)           (None, 56, 56, 128)       16384     \n",
      "_________________________________________________________________\n",
      "conv_pw_2_bn (BatchNormaliza (None, 56, 56, 128)       512       \n",
      "_________________________________________________________________\n",
      "conv_pw_2_relu (ReLU)        (None, 56, 56, 128)       0         \n",
      "_________________________________________________________________\n",
      "conv_dw_3 (DepthwiseConv2D)  (None, 56, 56, 256)       2304      \n",
      "_________________________________________________________________\n",
      "conv_dw_3_bn (BatchNormaliza (None, 56, 56, 256)       1024      \n",
      "_________________________________________________________________\n",
      "conv_dw_3_relu (ReLU)        (None, 56, 56, 256)       0         \n",
      "_________________________________________________________________\n",
      "conv_pw_3 (Conv2D)           (None, 56, 56, 128)       32768     \n",
      "_________________________________________________________________\n",
      "conv_pw_3_bn (BatchNormaliza (None, 56, 56, 128)       512       \n",
      "_________________________________________________________________\n",
      "conv_pw_3_relu (ReLU)        (None, 56, 56, 128)       0         \n",
      "_________________________________________________________________\n",
      "conv_pad_4 (ZeroPadding2D)   (None, 57, 57, 128)       0         \n",
      "_________________________________________________________________\n",
      "conv_dw_4 (DepthwiseConv2D)  (None, 28, 28, 256)       2304      \n",
      "_________________________________________________________________\n",
      "conv_dw_4_bn (BatchNormaliza (None, 28, 28, 256)       1024      \n",
      "_________________________________________________________________\n",
      "conv_dw_4_relu (ReLU)        (None, 28, 28, 256)       0         \n",
      "_________________________________________________________________\n",
      "conv_pw_4 (Conv2D)           (None, 28, 28, 256)       65536     \n",
      "_________________________________________________________________\n",
      "conv_pw_4_bn (BatchNormaliza (None, 28, 28, 256)       1024      \n",
      "_________________________________________________________________\n",
      "conv_pw_4_relu (ReLU)        (None, 28, 28, 256)       0         \n",
      "_________________________________________________________________\n",
      "conv_dw_5 (DepthwiseConv2D)  (None, 28, 28, 512)       4608      \n",
      "_________________________________________________________________\n",
      "conv_dw_5_bn (BatchNormaliza (None, 28, 28, 512)       2048      \n",
      "_________________________________________________________________\n",
      "conv_dw_5_relu (ReLU)        (None, 28, 28, 512)       0         \n",
      "_________________________________________________________________\n",
      "conv_pw_5 (Conv2D)           (None, 28, 28, 256)       131072    \n",
      "_________________________________________________________________\n",
      "conv_pw_5_bn (BatchNormaliza (None, 28, 28, 256)       1024      \n",
      "_________________________________________________________________\n",
      "conv_pw_5_relu (ReLU)        (None, 28, 28, 256)       0         \n",
      "_________________________________________________________________\n",
      "conv_pad_6 (ZeroPadding2D)   (None, 29, 29, 256)       0         \n",
      "_________________________________________________________________\n",
      "conv_dw_6 (DepthwiseConv2D)  (None, 14, 14, 512)       4608      \n",
      "_________________________________________________________________\n",
      "conv_dw_6_bn (BatchNormaliza (None, 14, 14, 512)       2048      \n",
      "_________________________________________________________________\n",
      "conv_dw_6_relu (ReLU)        (None, 14, 14, 512)       0         \n",
      "_________________________________________________________________\n",
      "conv_pw_6 (Conv2D)           (None, 14, 14, 512)       262144    \n",
      "_________________________________________________________________\n",
      "conv_pw_6_bn (BatchNormaliza (None, 14, 14, 512)       2048      \n",
      "_________________________________________________________________\n",
      "conv_pw_6_relu (ReLU)        (None, 14, 14, 512)       0         \n",
      "_________________________________________________________________\n",
      "conv_dw_7 (DepthwiseConv2D)  (None, 14, 14, 1024)      9216      \n",
      "_________________________________________________________________\n",
      "conv_dw_7_bn (BatchNormaliza (None, 14, 14, 1024)      4096      \n",
      "_________________________________________________________________\n",
      "conv_dw_7_relu (ReLU)        (None, 14, 14, 1024)      0         \n",
      "_________________________________________________________________\n",
      "conv_pw_7 (Conv2D)           (None, 14, 14, 512)       524288    \n",
      "_________________________________________________________________\n",
      "conv_pw_7_bn (BatchNormaliza (None, 14, 14, 512)       2048      \n",
      "_________________________________________________________________\n",
      "conv_pw_7_relu (ReLU)        (None, 14, 14, 512)       0         \n",
      "_________________________________________________________________\n",
      "conv_dw_8 (DepthwiseConv2D)  (None, 14, 14, 1024)      9216      \n",
      "_________________________________________________________________\n",
      "conv_dw_8_bn (BatchNormaliza (None, 14, 14, 1024)      4096      \n",
      "_________________________________________________________________\n",
      "conv_dw_8_relu (ReLU)        (None, 14, 14, 1024)      0         \n",
      "_________________________________________________________________\n",
      "conv_pw_8 (Conv2D)           (None, 14, 14, 512)       524288    \n",
      "_________________________________________________________________\n",
      "conv_pw_8_bn (BatchNormaliza (None, 14, 14, 512)       2048      \n",
      "_________________________________________________________________\n",
      "conv_pw_8_relu (ReLU)        (None, 14, 14, 512)       0         \n",
      "_________________________________________________________________\n",
      "conv_dw_9 (DepthwiseConv2D)  (None, 14, 14, 1024)      9216      \n",
      "_________________________________________________________________\n",
      "conv_dw_9_bn (BatchNormaliza (None, 14, 14, 1024)      4096      \n",
      "_________________________________________________________________\n",
      "conv_dw_9_relu (ReLU)        (None, 14, 14, 1024)      0         \n",
      "_________________________________________________________________\n",
      "conv_pw_9 (Conv2D)           (None, 14, 14, 512)       524288    \n",
      "_________________________________________________________________\n",
      "conv_pw_9_bn (BatchNormaliza (None, 14, 14, 512)       2048      \n",
      "_________________________________________________________________\n",
      "conv_pw_9_relu (ReLU)        (None, 14, 14, 512)       0         \n",
      "_________________________________________________________________\n",
      "conv_dw_10 (DepthwiseConv2D) (None, 14, 14, 1024)      9216      \n",
      "_________________________________________________________________\n",
      "conv_dw_10_bn (BatchNormaliz (None, 14, 14, 1024)      4096      \n",
      "_________________________________________________________________\n",
      "conv_dw_10_relu (ReLU)       (None, 14, 14, 1024)      0         \n",
      "_________________________________________________________________\n",
      "conv_pw_10 (Conv2D)          (None, 14, 14, 512)       524288    \n",
      "_________________________________________________________________\n",
      "conv_pw_10_bn (BatchNormaliz (None, 14, 14, 512)       2048      \n",
      "_________________________________________________________________\n",
      "conv_pw_10_relu (ReLU)       (None, 14, 14, 512)       0         \n",
      "_________________________________________________________________\n",
      "conv_dw_11 (DepthwiseConv2D) (None, 14, 14, 1024)      9216      \n",
      "_________________________________________________________________\n",
      "conv_dw_11_bn (BatchNormaliz (None, 14, 14, 1024)      4096      \n",
      "_________________________________________________________________\n",
      "conv_dw_11_relu (ReLU)       (None, 14, 14, 1024)      0         \n",
      "_________________________________________________________________\n",
      "conv_pw_11 (Conv2D)          (None, 14, 14, 512)       524288    \n",
      "_________________________________________________________________\n",
      "conv_pw_11_bn (BatchNormaliz (None, 14, 14, 512)       2048      \n",
      "_________________________________________________________________\n",
      "conv_pw_11_relu (ReLU)       (None, 14, 14, 512)       0         \n",
      "_________________________________________________________________\n",
      "conv_pad_12 (ZeroPadding2D)  (None, 15, 15, 512)       0         \n",
      "_________________________________________________________________\n",
      "conv_dw_12 (DepthwiseConv2D) (None, 7, 7, 1024)        9216      \n",
      "_________________________________________________________________\n",
      "conv_dw_12_bn (BatchNormaliz (None, 7, 7, 1024)        4096      \n",
      "_________________________________________________________________\n",
      "conv_dw_12_relu (ReLU)       (None, 7, 7, 1024)        0         \n",
      "_________________________________________________________________\n",
      "conv_pw_12 (Conv2D)          (None, 7, 7, 1024)        1048576   \n",
      "_________________________________________________________________\n",
      "conv_pw_12_bn (BatchNormaliz (None, 7, 7, 1024)        4096      \n",
      "_________________________________________________________________\n",
      "conv_pw_12_relu (ReLU)       (None, 7, 7, 1024)        0         \n",
      "_________________________________________________________________\n",
      "conv_dw_13 (DepthwiseConv2D) (None, 7, 7, 2048)        18432     \n",
      "_________________________________________________________________\n",
      "conv_dw_13_bn (BatchNormaliz (None, 7, 7, 2048)        8192      \n",
      "_________________________________________________________________\n",
      "conv_dw_13_relu (ReLU)       (None, 7, 7, 2048)        0         \n",
      "_________________________________________________________________\n",
      "conv_pw_13 (Conv2D)          (None, 7, 7, 1024)        2097152   \n",
      "_________________________________________________________________\n",
      "conv_pw_13_bn (BatchNormaliz (None, 7, 7, 1024)        4096      \n",
      "_________________________________________________________________\n",
      "conv_pw_13_relu (ReLU)       (None, 7, 7, 1024)        0         \n",
      "_________________________________________________________________\n",
      "global_average_pooling2d (Gl (None, 1024)              0         \n",
      "_________________________________________________________________\n",
      "reshape_1 (Reshape)          (None, 1, 1, 1024)        0         \n",
      "_________________________________________________________________\n",
      "dropout (Dropout)            (None, 1, 1, 1024)        0         \n",
      "_________________________________________________________________\n",
      "conv_preds (Conv2D)          (None, 1, 1, 5)           5125      \n",
      "_________________________________________________________________\n",
      "reshape_2 (Reshape)          (None, 5)                 0         \n",
      "_________________________________________________________________\n",
      "predictions (Activation)     (None, 5)                 0         \n",
      "=================================================================\n",
      "Total params: 6,438,053\n",
      "Trainable params: 6,406,245\n",
      "Non-trainable params: 31,808\n",
      "_________________________________________________________________\n",
      "None\n"
     ]
    }
   ],
   "source": [
    "from tensorflow import keras\n",
    "img_shape = (224, 224, 3)\n",
    "\n",
    "model = keras.applications.MobileNet(include_top=True,\n",
    "    weights=None,\n",
    "    input_tensor=None,\n",
    "    input_shape=img_shape,\n",
    "    pooling='max',\n",
    "    classes=5, alpha=1, depth_multiplier=2,dropout=.5)\n",
    "\n",
    "print(model.summary())"
   ]
  },
  {
   "cell_type": "code",
   "execution_count": 17,
   "metadata": {
    "pycharm": {
     "is_executing": true,
     "name": "#%%\n"
    }
   },
   "outputs": [
    {
     "name": "stdout",
     "output_type": "stream",
     "text": [
      "Epoch 1/20\n",
      "486/486 [==============================] - 3157s 6s/step - loss: 0.0707 - accuracy: 0.9747 - val_loss: 0.0459 - val_accuracy: 0.9838\n",
      "Epoch 2/20\n",
      "486/486 [==============================] - 2897s 6s/step - loss: 0.0598 - accuracy: 0.9799 - val_loss: 0.0320 - val_accuracy: 0.9914\n",
      "Epoch 3/20\n",
      "486/486 [==============================] - 2770s 6s/step - loss: 0.0569 - accuracy: 0.9821 - val_loss: 0.1606 - val_accuracy: 0.9603\n",
      "Epoch 4/20\n",
      "486/486 [==============================] - 2797s 6s/step - loss: 0.0454 - accuracy: 0.9839 - val_loss: 0.1112 - val_accuracy: 0.9630\n",
      "Epoch 5/20\n",
      "486/486 [==============================] - 2798s 6s/step - loss: 0.0425 - accuracy: 0.9857 - val_loss: 0.3105 - val_accuracy: 0.9286\n",
      "Epoch 6/20\n",
      "486/486 [==============================] - 3155s 6s/step - loss: 0.0380 - accuracy: 0.9866 - val_loss: 0.6188 - val_accuracy: 0.8709\n",
      "Epoch 7/20\n",
      "486/486 [==============================] - 3427s 7s/step - loss: 0.0333 - accuracy: 0.9887 - val_loss: 0.1102 - val_accuracy: 0.9728\n",
      "Epoch 8/20\n",
      "486/486 [==============================] - 2834s 6s/step - loss: 0.0298 - accuracy: 0.9900 - val_loss: 0.0601 - val_accuracy: 0.9828\n",
      "Epoch 9/20\n",
      "486/486 [==============================] - 2728s 6s/step - loss: 0.0295 - accuracy: 0.9896 - val_loss: 0.0161 - val_accuracy: 0.9949\n",
      "Epoch 10/20\n",
      "486/486 [==============================] - 1788s 4s/step - loss: 0.0270 - accuracy: 0.9914 - val_loss: 0.0864 - val_accuracy: 0.9796\n",
      "Epoch 11/20\n",
      "486/486 [==============================] - 1718s 4s/step - loss: 0.0273 - accuracy: 0.9917 - val_loss: 0.0977 - val_accuracy: 0.9858\n",
      "Epoch 12/20\n",
      "486/486 [==============================] - 1717s 4s/step - loss: 0.0227 - accuracy: 0.9921 - val_loss: 0.0993 - val_accuracy: 0.9686\n",
      "Epoch 13/20\n",
      "486/486 [==============================] - 1718s 4s/step - loss: 0.0214 - accuracy: 0.9929 - val_loss: 0.0426 - val_accuracy: 0.9890\n",
      "Epoch 14/20\n",
      "486/486 [==============================] - 1717s 4s/step - loss: 0.0232 - accuracy: 0.9930 - val_loss: 0.2628 - val_accuracy: 0.9333\n",
      "Epoch 15/20\n",
      "486/486 [==============================] - 1722s 4s/step - loss: 0.0185 - accuracy: 0.9937 - val_loss: 0.1840 - val_accuracy: 0.9633\n",
      "Epoch 16/20\n",
      "486/486 [==============================] - 1721s 4s/step - loss: 0.0184 - accuracy: 0.9948 - val_loss: 0.0549 - val_accuracy: 0.9876\n",
      "Epoch 17/20\n",
      "486/486 [==============================] - 1721s 4s/step - loss: 0.0217 - accuracy: 0.9929 - val_loss: 0.2270 - val_accuracy: 0.9500\n",
      "Epoch 18/20\n",
      "486/486 [==============================] - 1724s 4s/step - loss: 0.0153 - accuracy: 0.9955 - val_loss: 0.0964 - val_accuracy: 0.9795\n",
      "Epoch 19/20\n",
      "486/486 [==============================] - 1724s 4s/step - loss: 0.0174 - accuracy: 0.9947 - val_loss: 0.2657 - val_accuracy: 0.9405\n",
      "Epoch 20/20\n",
      "486/486 [==============================] - 1725s 4s/step - loss: 0.0152 - accuracy: 0.9959 - val_loss: 0.0358 - val_accuracy: 0.9935\n",
      "<keras.callbacks.History object at 0x7fbaf1491520>\n"
     ]
    }
   ],
   "source": [
    "lr, epochs =  0.0001, 20\n",
    "loss = keras.losses.CategoricalCrossentropy()\n",
    "trainer = keras.optimizers.RMSprop(learning_rate=lr)\n",
    "steps_per_epoch = count_train//64\n",
    "validation_steps = count_test//64\n",
    "\n",
    "save_it= keras.callbacks.ModelCheckpoint(filepath='rabin_a_mobile_v2.epoch{epoch:02d}-loss{val_loss:.2f}.hdf5',monitor='val_loss', verbose=0, save_best_only=True, save_weights_only=False, mode='auto', save_freq='epoch', options=None)\n",
    "\n",
    "model.compile(loss=loss,optimizer=trainer,metrics=['accuracy'])\n",
    "my_model = model.fit(traindata, steps_per_epoch=steps_per_epoch, epochs=epochs, validation_data = testdata, validation_steps = validation_steps, verbose=1, callbacks=save_it)\n",
    "\n",
    "print(my_model)"
   ]
  },
  {
   "cell_type": "code",
   "execution_count": 18,
   "metadata": {
    "pycharm": {
     "name": "#%%\n"
    }
   },
   "outputs": [
    {
     "data": {
      "image/png": "[encoded data removed]",
      "text/plain": [
       "<Figure size 432x288 with 1 Axes>"
      ]
     },
     "metadata": {
      "needs_background": "light"
     },
     "output_type": "display_data"
    },
    {
     "data": {
      "image/png": "[encoded data removed]",
      "text/plain": [
       "<Figure size 432x288 with 1 Axes>"
      ]
     },
     "metadata": {
      "needs_background": "light"
     },
     "output_type": "display_data"
    }
   ],
   "source": [
    "import utilities as u\n",
    "import numpy as np\n",
    "\n",
    "# Plot results\n",
    "u.plot_results(my_model, epochs, \"Augmented Rabin Data, MobileNet\")\n"
   ]
  },
  {
   "cell_type": "code",
   "execution_count": 19,
   "metadata": {
    "pycharm": {
     "name": "#%%\n"
    }
   },
   "outputs": [],
   "source": [
    "# Save weights\n",
    "model.save_weights('Rabin Mobilenetv2.params')\n"
   ]
  },
  {
   "cell_type": "code",
   "execution_count": 20,
   "metadata": {
    "pycharm": {
     "name": "#%%\n"
    }
   },
   "outputs": [],
   "source": [
    "# Evaluate the model on the test set\n",
    "y_pred=np.argmax(model.predict(testdata), axis=-1)\n",
    "classes = list(testdata.class_indices.keys())\n"
   ]
  },
  {
   "cell_type": "code",
   "execution_count": 21,
   "metadata": {
    "pycharm": {
     "name": "#%%\n"
    }
   },
   "outputs": [
    {
     "name": "stdout",
     "output_type": "stream",
     "text": [
      "[0 0 0 ... 4 4 4]\n",
      "['Basophil', 'Eosinophil', 'Lymphocyte', 'Monocyte', 'Neutrophil']\n",
      "[0 0 0 ... 4 4 4]\n"
     ]
    },
    {
     "data": {
      "image/png": "[encoded data removed]",
      "text/plain": [
       "<Figure size 576x576 with 2 Axes>"
      ]
     },
     "metadata": {
      "needs_background": "light"
     },
     "output_type": "display_data"
    }
   ],
   "source": [
    "print(y_pred)\n",
    "print(classes)\n",
    "print(testdata.labels)\n",
    "\n",
    "# Confusion Matrix\n",
    "u.cm(y_pred,testdata.labels, classes)"
   ]
  },
  {
   "cell_type": "code",
   "execution_count": 4,
   "metadata": {},
   "outputs": [],
   "source": [
    "# To get performance metrics\n",
    "import numpy as np\n",
    "import pandas as pd\n",
    "from sklearn.metrics import confusion_matrix\n",
    "\n",
    "model.load_weights('Rabin Mobilenetv2.params')\n",
    "classes = list(testdata.class_indices.keys())\n",
    "y_pred=np.argmax(model.predict(testdata), axis=-1)\n",
    "cnf_matrix = confusion_matrix(testdata.labels, y_pred)"
   ]
  },
  {
   "cell_type": "code",
   "execution_count": 5,
   "metadata": {},
   "outputs": [
    {
     "name": "stdout",
     "output_type": "stream",
     "text": [
      "            Basophil Eosinophil Lymphocyte Monocyte Neutrophil\n",
      "Sensitivity      1.0     0.9944     0.9677   0.9293     0.8662\n",
      "Specificity   0.9924     0.9715     0.9862   0.9895     0.9998\n",
      "Error            0.0     0.0056     0.0323   0.0707     0.1338\n"
     ]
    }
   ],
   "source": [
    "metrics = pd.DataFrame(index =['Sensitivity', 'Specificity','Error'],\n",
    "                   columns =  [x.title() for x in classes])\n",
    "   \n",
    "for i in range (0,len(cnf_matrix)):\n",
    "    TP = cnf_matrix[i][i]\n",
    "    FN = sum(cnf_matrix[i])-TP #row \n",
    "    FP = sum(cnf_matrix[:,i])-TP #col\n",
    "    TN = sum(sum(cnf_matrix))-TP-FN-FP\n",
    "    \n",
    "    accuracy = TP/sum(cnf_matrix[i])\n",
    "    error = 1-TP/sum(cnf_matrix[i])\n",
    "    sensitivity = TP/(TP+FN)\n",
    "    specificity = TN/(TN+FP) \n",
    "    \n",
    "    metrics.iloc[0][i] = round(sensitivity,4)\n",
    "    metrics.iloc[1][i] = round(specificity,4)\n",
    "    metrics.iloc[2][i] = round(error,4)\n",
    "    \n",
    "print(metrics)"
   ]
  },
  {
   "cell_type": "code",
   "execution_count": null,
   "metadata": {},
   "outputs": [],
   "source": []
  }
 ],
 "metadata": {
  "kernelspec": {
   "display_name": "Python 3",
   "language": "python",
   "name": "python3"
  },
  "language_info": {
   "codemirror_mode": {
    "name": "ipython",
    "version": 3
   },
   "file_extension": ".py",
   "mimetype": "text/x-python",
   "name": "python",
   "nbconvert_exporter": "python",
   "pygments_lexer": "ipython3",
   "version": "3.8.8"
  }
 },
 "nbformat": 4,
 "nbformat_minor": 1
}